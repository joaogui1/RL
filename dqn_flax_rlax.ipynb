{
  "nbformat": 4,
  "nbformat_minor": 0,
  "metadata": {
    "colab": {
      "name": "flax_rlax_dqn.ipynb",
      "provenance": [],
      "collapsed_sections": []
    },
    "kernelspec": {
      "name": "python3",
      "display_name": "Python 3"
    }
  },
  "cells": [
    {
      "cell_type": "code",
      "metadata": {
        "id": "Nv_m06DlILrm",
        "colab_type": "code",
        "colab": {}
      },
      "source": [
        "!pip install flax > /dev/null 2>&1\n",
        "!pip install git+git://github.com/deepmind/rlax.git > /dev/null 2>&1"
      ],
      "execution_count": 0,
      "outputs": []
    },
    {
      "cell_type": "code",
      "metadata": {
        "id": "dbxrbw0aIMfw",
        "colab_type": "code",
        "colab": {}
      },
      "source": [
        "import jax\n",
        "from jax import jit, grad, vmap\n",
        "import jax.numpy as jnp\n",
        "from flax import nn, optim\n",
        "import rlax\n",
        "\n",
        "import gym\n",
        "from functools import partial\n",
        "import numpy as np\n",
        "\n",
        "import random\n",
        "from IPython.display import clear_output\n",
        "from collections import deque\n",
        "from typing import Callable, Mapping, NamedTuple, Tuple, Sequence\n",
        "\n",
        "import matplotlib.pyplot as plt\n",
        "%matplotlib inline\n",
        "COLOR = 'white'\n",
        "plt.rcParams['text.color'] = COLOR\n",
        "plt.rcParams['axes.labelcolor'] = COLOR\n",
        "plt.rcParams['xtick.color'] = COLOR\n",
        "plt.rcParams['ytick.color'] = COLOR"
      ],
      "execution_count": 0,
      "outputs": []
    },
    {
      "cell_type": "markdown",
      "metadata": {
        "id": "cvkEjbCcIg2_",
        "colab_type": "text"
      },
      "source": [
        "# Hyperparameters"
      ]
    },
    {
      "cell_type": "code",
      "metadata": {
        "id": "OgS0ISB5IXRW",
        "colab_type": "code",
        "colab": {}
      },
      "source": [
        "NUM_EPISODES = 10000\n",
        "BATCH_SIZE   = 32\n",
        "GAMMA        = 0.99"
      ],
      "execution_count": 0,
      "outputs": []
    },
    {
      "cell_type": "markdown",
      "metadata": {
        "id": "nZzcxAtUImXk",
        "colab_type": "text"
      },
      "source": [
        "# Deep Q Network"
      ]
    },
    {
      "cell_type": "code",
      "metadata": {
        "id": "fRacVHEzIl1p",
        "colab_type": "code",
        "colab": {}
      },
      "source": [
        "class DQN(nn.Module):\n",
        "  def apply(self, x, num_actions):\n",
        "    x = nn.Dense(x, 128)\n",
        "    x = nn.relu(x)\n",
        "    x = nn.Dense(x, 128)\n",
        "    x = nn.relu(x)\n",
        "    y = nn.Dense(x, num_actions)\n",
        "    return y"
      ],
      "execution_count": 0,
      "outputs": []
    },
    {
      "cell_type": "markdown",
      "metadata": {
        "id": "-ASO1S3BIw8X",
        "colab_type": "text"
      },
      "source": [
        "# Replay Buffer"
      ]
    },
    {
      "cell_type": "code",
      "metadata": {
        "id": "XWCwUEZpIulr",
        "colab_type": "code",
        "colab": {}
      },
      "source": [
        "class ReplayBuffer(object):\n",
        "    def __init__(self, capacity):\n",
        "        self.buffer = deque(maxlen=capacity)\n",
        "    \n",
        "    def push(self, state, action, reward, next_state, done):\n",
        "        state      = jnp.expand_dims(state, 0)\n",
        "        next_state = jnp.expand_dims(next_state, 0)\n",
        "            \n",
        "        self.buffer.append((state, action, reward, next_state, done))\n",
        "    \n",
        "    def sample(self, batch_size):\n",
        "        state, action, reward, next_state, done = zip(*random.sample(self.buffer, batch_size))\n",
        "        return {'state': jnp.concatenate(state), 'action':jnp.asarray(action), \n",
        "                'reward':jnp.asarray(reward), \n",
        "                'next_state':jnp.concatenate(next_state), 'done':jnp.asarray(done)}\n",
        "    \n",
        "    def __len__(self):\n",
        "        return len(self.buffer)"
      ],
      "execution_count": 0,
      "outputs": []
    },
    {
      "cell_type": "markdown",
      "metadata": {
        "id": "DreQ12QmI2jv",
        "colab_type": "text"
      },
      "source": [
        "# $\\epsilon$-Greedy"
      ]
    },
    {
      "cell_type": "code",
      "metadata": {
        "id": "4AnsLzobIzRC",
        "colab_type": "code",
        "colab": {}
      },
      "source": [
        "epsilon_start = 1.0\n",
        "epsilon_final = 0.01\n",
        "epsilon_decay = 500\n",
        "\n",
        "epsilon_by_frame = lambda frame_idx: epsilon_final + (epsilon_start - epsilon_final) * jnp.exp(-1. * frame_idx / epsilon_decay)"
      ],
      "execution_count": 0,
      "outputs": []
    },
    {
      "cell_type": "markdown",
      "metadata": {
        "id": "XDXTb_AII7IR",
        "colab_type": "text"
      },
      "source": [
        "# Training"
      ]
    },
    {
      "cell_type": "code",
      "metadata": {
        "id": "0VG-7K55I6Bd",
        "colab_type": "code",
        "colab": {}
      },
      "source": [
        "def plot(frame_idx, rewards, losses):\n",
        "    clear_output(True)\n",
        "    plt.figure(figsize=(20,5))\n",
        "    plt.subplot(131)\n",
        "    plt.title('frame %s. reward: %s' % (frame_idx, np.mean(rewards[-10:])))\n",
        "    plt.plot(rewards)\n",
        "    plt.subplot(132)\n",
        "    plt.title('loss')\n",
        "    plt.plot(losses)\n",
        "    plt.show()"
      ],
      "execution_count": 0,
      "outputs": []
    },
    {
      "cell_type": "code",
      "metadata": {
        "id": "xndx_phgJEJk",
        "colab_type": "code",
        "colab": {}
      },
      "source": [
        "@jit\n",
        "def policy(model, key, obs, epsilon):\n",
        "  \"\"\"Sample action from epsilon-greedy policy.\"\"\"\n",
        "  q = model(obs)\n",
        "  a = rlax.epsilon_greedy(epsilon=epsilon).sample(key, q)\n",
        "  return q, a\n",
        "\n",
        "@jit\n",
        "def eval_policy(net_params, key, obs):\n",
        "  \"\"\"Sample action from greedy policy.\"\"\"\n",
        "  q = network.apply(net_params, obs)\n",
        "  return rlax.greedy().sample(key, q)\n",
        "\n",
        "batched_loss = vmap(rlax.double_q_learning)\n",
        "@jit\n",
        "def train_step(optimizer, target_model, batch, gamma):\n",
        "  def loss_fn(model):\n",
        "    done = batch['done']\n",
        "    q = model(batch['state'])\n",
        "    q_target = target_model(batch['next_state'])\n",
        "    q_selector = model(batch['next_state'])\n",
        "    \n",
        "    td_error = batched_loss(q, batch['action'], batch['reward'], \n",
        "                                        gamma*(1. - done), q_target, q_selector)\n",
        "    return jnp.mean(rlax.l2_loss(td_error))\n",
        "\n",
        "  loss, grad = jax.value_and_grad(loss_fn)(optimizer.target)\n",
        "  optimizer = optimizer.apply_gradient(grad)\n",
        "  return optimizer, loss\n",
        "\n",
        "def main_loop():\n",
        "  # Build env\n",
        "  env_id = \"CartPole-v0\"\n",
        "  env = gym.make(env_id)\n",
        "  replay_buffer = ReplayBuffer(1000)\n",
        "\n",
        "  #logging\n",
        "  losses = []\n",
        "  all_rewards = []\n",
        "  episode_reward = 0\n",
        "  key = jax.random.PRNGKey(0)\n",
        "\n",
        "  # Build and initialize Q-network.\n",
        "  num_actions = env.action_space.n\n",
        "  state = env.reset()\n",
        "  module = DQN.partial(num_actions=num_actions)\n",
        "  _, initial_params = module.init(key, state)\n",
        "  model = nn.Model(module, initial_params)\n",
        "  target_model = nn.Model(module, initial_params)\n",
        "\n",
        "  # Build and initialize optimizer.\n",
        "  optimizer = optim.Adam(1e-3).create(model)\n",
        "\n",
        "  for idx in range(1, NUM_EPISODES+1):\n",
        "    key, _ = jax.random.split(key)\n",
        "    epsilon = epsilon_by_frame(idx)\n",
        "\n",
        "    #Act in the environment and update replay_buffer\n",
        "    _, action = policy(optimizer.target, key, state, epsilon)  \n",
        "    next_state, reward, done, _ = env.step(int(action))\n",
        "    replay_buffer.push(state, action, reward, next_state, done)\n",
        "    \n",
        "  \n",
        "    state = next_state\n",
        "    episode_reward += reward\n",
        "\n",
        "    if done:\n",
        "        state = env.reset()\n",
        "        all_rewards.append(episode_reward)\n",
        "        episode_reward = 0\n",
        "        \n",
        "    if len(replay_buffer) > BATCH_SIZE:\n",
        "      batch = replay_buffer.sample(BATCH_SIZE)\n",
        "      optimizer, loss = train_step(optimizer, target_model, batch, GAMMA)\n",
        "      losses.append(float(loss))\n",
        "        \n",
        "    if idx % 200 == 0:\n",
        "     plot(idx, all_rewards, losses)\n",
        "      \n",
        "    #Update Target model parameters\n",
        "    if idx % 100 == 0:\n",
        "      target_model = target_model.replace(params=optimizer.target.params)\n",
        "\n",
        "  return optimizer.target "
      ],
      "execution_count": 0,
      "outputs": []
    },
    {
      "cell_type": "code",
      "metadata": {
        "id": "rqtoGyLoMmRs",
        "colab_type": "code",
        "outputId": "7fc5607f-35a6-4169-e36e-80fa5577e178",
        "colab": {
          "base_uri": "https://localhost:8080/",
          "height": 336
        }
      },
      "source": [
        "model = main_loop()"
      ],
      "execution_count": 0,
      "outputs": [
        {
          "output_type": "display_data",
          "data": {
            "image/png": "[encoded data removed]",
            "text/plain": [
              "<Figure size 1440x360 with 2 Axes>"
            ]
          },
          "metadata": {
            "tags": [],
            "needs_background": "dark"
          }
        }
      ]
    },
    {
      "cell_type": "code",
      "metadata": {
        "id": "OwAeFbfIOkNp",
        "colab_type": "code",
        "colab": {}
      },
      "source": [
        ""
      ],
      "execution_count": 0,
      "outputs": []
    }
  ]
}